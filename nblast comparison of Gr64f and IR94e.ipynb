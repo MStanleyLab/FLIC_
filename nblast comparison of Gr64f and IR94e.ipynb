{
 "cells": [
  {
   "cell_type": "code",
   "execution_count": null,
   "id": "374aa24f",
   "metadata": {},
   "outputs": [],
   "source": [
    "import navis"
   ]
  },
  {
   "cell_type": "code",
   "execution_count": null,
   "id": "fded76ba",
   "metadata": {
    "scrolled": true
   },
   "outputs": [],
   "source": [
    "#Import the swc files for neuron skeletons\n",
    "skeletons_s = navis.read_swc (r\"D:\\Gordon Lab\\IR94e figure\\sweet vs IR94e morphology comparison\\swc\\sweet\", include_subdirs=True)\n",
    "skeletons_I = navis.read_swc (r\"D:\\Gordon Lab\\IR94e figure\\sweet vs IR94e morphology comparison\\swc\\IR94e\", include_subdirs=True)"
   ]
  },
  {
   "cell_type": "code",
   "execution_count": null,
   "id": "ca77e931",
   "metadata": {},
   "outputs": [],
   "source": [
    "#Creating labels for each skeleton\n",
    "import numpy as np\n",
    "labels_I=[f\"IR94e{i}\" for i in range(1, len(skeletons_I) + 1)]\n",
    "labels_s=[f\"Gr64f{i}\" for i in range(1, len(skeletons_s) + 1)]"
   ]
  },
  {
   "cell_type": "code",
   "execution_count": null,
   "id": "030ac1a9",
   "metadata": {},
   "outputs": [],
   "source": [
    "#Replace the skeleton IDs with skeleton labels\n",
    "skeletons_I.set_neuron_attributes(labels_I, 'id', register=True, na='raise')\n",
    "skeletons_s.set_neuron_attributes(labels_s, 'id', register=True, na='raise')"
   ]
  },
  {
   "cell_type": "code",
   "execution_count": null,
   "id": "fc76997d",
   "metadata": {},
   "outputs": [],
   "source": [
    "#Add both types of neurons to the same list\n",
    "skeletons = skeletons_I+skeletons_s"
   ]
  },
  {
   "cell_type": "code",
   "execution_count": null,
   "id": "742d739a",
   "metadata": {},
   "outputs": [],
   "source": [
    "#Convert the skeleton unit into microns\n",
    "nl_um = skeletons / 1000\n",
    "\n",
    "#Make dotprops for NBLAST comparison\n",
    "dps = navis.make_dotprops(nl_um, k=5, resample=False)\n",
    "\n",
    "#Generate all by all NBLAST comparisons\n",
    "aba = navis.nblast_allbyall(dps, progress=False)\n",
    "\n",
    "#Take the mean of the forward and reverse NBLAST scores\n",
    "aba_mean = (aba + aba.T) / 2\n",
    "\n",
    "#Calculate the distance from the NBLAST similarity scores\n",
    "aba_dist = 1 - aba_mean"
   ]
  },
  {
   "cell_type": "code",
   "execution_count": null,
   "id": "9a4853e4",
   "metadata": {},
   "outputs": [],
   "source": [
    "#Hierarchical clustering of the neuron skeletons based on the calculated distance\n",
    "from scipy.spatial.distance import squareform\n",
    "from scipy.cluster.hierarchy import linkage, dendrogram, set_link_color_palette\n",
    "\n",
    "import matplotlib.pyplot as plt\n",
    "import matplotlib.colors as mcl\n",
    "import seaborn as sns\n",
    "\n",
    "set_link_color_palette([mcl.to_hex(c) for c in sns.color_palette('muted', 10)])\n",
    "aba_vec = squareform(aba_dist, checks=False)\n",
    "Z = linkage(aba_vec, method='ward')\n",
    "\n",
    "# Plotting the dendrogram\n",
    "plt.figure(figsize=(20, 10))\n",
    "dendrogram_result=dendrogram(Z, labels=aba_mean.columns, leaf_rotation=90, leaf_font_size=15)\n",
    "plt.tight_layout()\n",
    "#plt.savefig(\"Gr64f vs IR94e clustering.pdf\", format=\"pdf\", dpi=300)"
   ]
  },
  {
   "cell_type": "code",
   "execution_count": null,
   "id": "ac9c3f57",
   "metadata": {},
   "outputs": [],
   "source": [
    "#Save the all by all distance matrix in excel\n",
    "aba_dist.to_excel('Gr64f vs IR94e_abadist.xlsx', index=True)"
   ]
  },
  {
   "cell_type": "code",
   "execution_count": null,
   "id": "80545a0a",
   "metadata": {},
   "outputs": [],
   "source": [
    "#Import the all by all distance matrix file\n",
    "import pandas as pd\n",
    "df_aba = pd.read_excel(r\"D:\\Gordon Lab\\IR94e figure\\sweet vs IR94e morphology comparison\\Gr64f vs IR94e_abadist.xlsx\")"
   ]
  },
  {
   "cell_type": "code",
   "execution_count": null,
   "id": "d5fced55",
   "metadata": {},
   "outputs": [],
   "source": [
    "#Reorder the list based on clustering order\n",
    "df_aba.set_index('query', inplace=True)\n",
    "ordered_aba = dendrogram_result['leaves'] \n",
    "df_aba_ordered = df_aba.iloc[ordered_aba]\n",
    "df_abatranspose = df_aba_ordered.transpose()\n",
    "df_aba_final = df_abatranspose.iloc[ordered_aba]\n",
    "df_aba_final.to_csv('Ordered Gr64f vs IR94e abamean.csv', index=True)"
   ]
  },
  {
   "cell_type": "code",
   "execution_count": null,
   "id": "64ca69d0",
   "metadata": {},
   "outputs": [],
   "source": [
    "#Save the ordered list in excel\n",
    "df_abadist_ordered = pd.read_csv(r\"D:\\Gordon Lab\\IR94e figure\\sweet vs IR94e morphology comparison\\Ordered Gr64f vs IR94e abadist.csv\")"
   ]
  },
  {
   "cell_type": "code",
   "execution_count": null,
   "id": "60da0da3",
   "metadata": {},
   "outputs": [],
   "source": [
    "#Plot the reordered distance matrix heatmap\n",
    "import seaborn as sns\n",
    "import matplotlib.pyplot as plt\n",
    "\n",
    "df_final = df_abadist_ordered.set_index('query')\n",
    "plt.figure(figsize=(20, 20))\n",
    "sns.heatmap(df_final, cmap='coolwarm', square = True)\n",
    "#plt.savefig('Gr64f vs IR94e abadist_heatmap.pdf',dpi=300)"
   ]
  }
 ],
 "metadata": {
  "kernelspec": {
   "display_name": "Python 3 (ipykernel)",
   "language": "python",
   "name": "python3"
  },
  "language_info": {
   "codemirror_mode": {
    "name": "ipython",
    "version": 3
   },
   "file_extension": ".py",
   "mimetype": "text/x-python",
   "name": "python",
   "nbconvert_exporter": "python",
   "pygments_lexer": "ipython3",
   "version": "3.11.5"
  }
 },
 "nbformat": 4,
 "nbformat_minor": 5
}
